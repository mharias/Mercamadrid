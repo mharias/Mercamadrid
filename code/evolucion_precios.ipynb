{
 "cells": [
  {
   "cell_type": "markdown",
   "id": "09a55234",
   "metadata": {},
   "source": [
    "# Objetivo"
   ]
  },
  {
   "cell_type": "code",
   "execution_count": 1,
   "id": "3822aa35",
   "metadata": {},
   "outputs": [],
   "source": [
    "import os.path as pth\n",
    "import time\n",
    "\n",
    "import pandas as pd\n",
    "import numpy as np\n",
    "\n",
    "import requests\n",
    "import json\n",
    "\n",
    "import matplotlib.pyplot as plt\n",
    "from matplotlib.ticker import FuncFormatter\n",
    "from matplotlib import cm\n",
    "import matplotlib.dates as mdates\n",
    "import matplotlib.ticker as ticker\n",
    "from matplotlib.dates import (YEARLY, MONTHLY, DateFormatter, WeekdayLocator, MonthLocator,DayLocator,\n",
    "                              rrulewrapper, RRuleLocator, drange)\n",
    "import matplotlib.patches as mpatches\n",
    "import matplotlib.units as munits\n",
    "\n",
    "import matplotlib.colors as colors\n",
    "\n",
    "from datetime import datetime,timedelta,date\n",
    "import seaborn as sns\n",
    "%matplotlib inline\n",
    "\n",
    "import html\n",
    "import twitter\n",
    "import sys\n",
    "import locale\n",
    "\n"
   ]
  },
  {
   "cell_type": "markdown",
   "id": "33796d3e",
   "metadata": {},
   "source": [
    "# variables globales"
   ]
  },
  {
   "cell_type": "code",
   "execution_count": 2,
   "id": "7534bb2a",
   "metadata": {},
   "outputs": [],
   "source": [
    "path_proyecto = '/Users/mharias/documents/proyectos/mercamadrid/'"
   ]
  },
  {
   "cell_type": "code",
   "execution_count": 3,
   "id": "b5ae82c6",
   "metadata": {},
   "outputs": [],
   "source": [
    "path_ficheros = ['https://datos.madrid.es/egob/catalogo/300357-6-mercamadrid-volumen-precio.csv',\n",
    "                 'https://datos.madrid.es/egob/catalogo/300357-4-mercamadrid-volumen-precio.csv',\n",
    "                 'https://datos.madrid.es/egob/catalogo/300357-2-mercamadrid-volumen-precio.csv',\n",
    "                 'https://datos.madrid.es/egob/catalogo/300357-0-mercamadrid-volumen-precio.csv']"
   ]
  },
  {
   "cell_type": "markdown",
   "id": "4f820c6d",
   "metadata": {},
   "source": [
    "# Importamos los datos"
   ]
  },
  {
   "cell_type": "code",
   "execution_count": 4,
   "id": "6a803470",
   "metadata": {},
   "outputs": [],
   "source": [
    "storage_options = {'User-Agent': 'Mozilla/5.0'}"
   ]
  },
  {
   "cell_type": "code",
   "execution_count": 5,
   "id": "3c3e0ada",
   "metadata": {},
   "outputs": [],
   "source": [
    "lista_datos=[]\n",
    "for fichero in path_ficheros:\n",
    "    lista_datos.append(pd.read_csv(fichero, storage_options=storage_options,encoding='latin-1',sep=';'))\n"
   ]
  },
  {
   "cell_type": "code",
   "execution_count": 6,
   "id": "217aaab7",
   "metadata": {},
   "outputs": [],
   "source": [
    "df = pd.concat(lista_datos).query(\"`Fecha Desde`!='Fecha Desde'\")"
   ]
  },
  {
   "cell_type": "code",
   "execution_count": 7,
   "id": "91f3094d",
   "metadata": {},
   "outputs": [
    {
     "name": "stdout",
     "output_type": "stream",
     "text": [
      "<class 'pandas.core.frame.DataFrame'>\n",
      "Int64Index: 176958 entries, 0 to 50252\n",
      "Data columns (total 10 columns):\n",
      " #   Column                 Non-Null Count   Dtype \n",
      "---  ------                 --------------   ----- \n",
      " 0   Fecha Desde            176958 non-null  object\n",
      " 1    Fecha Hasta           176958 non-null  object\n",
      " 2    Código Variedad       176958 non-null  object\n",
      " 3    Descripción Variedad  176958 non-null  object\n",
      " 4    Origen                176958 non-null  object\n",
      " 5    Descripción Origen    176958 non-null  object\n",
      " 6    Kilos                 176958 non-null  object\n",
      " 7    Precio Más Frecuente  176958 non-null  object\n",
      " 8    Precio Máximo         176958 non-null  object\n",
      " 9    Precio Mínimo         176958 non-null  object\n",
      "dtypes: object(10)\n",
      "memory usage: 14.9+ MB\n"
     ]
    }
   ],
   "source": [
    "df.info()"
   ]
  },
  {
   "cell_type": "code",
   "execution_count": 8,
   "id": "69813f7d",
   "metadata": {},
   "outputs": [
    {
     "data": {
      "text/plain": [
       "Index(['Fecha Desde', ' Fecha Hasta', ' Código Variedad',\n",
       "       ' Descripción Variedad', ' Origen', ' Descripción Origen', ' Kilos',\n",
       "       ' Precio Más Frecuente', ' Precio Máximo', ' Precio Mínimo'],\n",
       "      dtype='object')"
      ]
     },
     "execution_count": 8,
     "metadata": {},
     "output_type": "execute_result"
    }
   ],
   "source": [
    "df.columns"
   ]
  },
  {
   "cell_type": "code",
   "execution_count": 9,
   "id": "0385dd1a",
   "metadata": {},
   "outputs": [],
   "source": [
    "datos = (df.\n",
    " assign(fecha=pd.to_datetime(df['Fecha Desde'],format='%Y%m%d')).\n",
    " assign(codigo_variedad=lambda df_:df_[' Código Variedad'].str.strip().astype('category')).\n",
    " assign(descripcion_variedad=lambda df_:df_[' Descripción Variedad'].str.strip().astype('category')).\n",
    " assign(origen = lambda df_:df_[' Origen'].str.strip().astype('category')).\n",
    " assign(descripcion_origen = lambda df_:df_[' Descripción Origen'].str.strip().astype('category')).\n",
    " assign(kilos = lambda df_:df_[' Kilos'].astype('float')).\n",
    " assign(precio_max = df[' Precio Máximo'].apply(lambda row: float(row.replace(',','.')))).\n",
    " assign(precio_min = df[' Precio Mínimo'].apply(lambda row: float(row.replace(',','.')))).\n",
    " assign(precio_freq = df[' Precio Más Frecuente'].apply(lambda row: float(row.replace(',','.')))).\n",
    " drop(['Fecha Desde', ' Fecha Hasta', ' Código Variedad',\n",
    "       ' Descripción Variedad', ' Origen', ' Descripción Origen', ' Kilos',\n",
    "       ' Precio Más Frecuente', ' Precio Máximo', ' Precio Mínimo',],axis=1)\n",
    ")"
   ]
  },
  {
   "cell_type": "code",
   "execution_count": 10,
   "id": "7106503c",
   "metadata": {},
   "outputs": [],
   "source": [
    "datos = datos.loc[~datos[['fecha','codigo_variedad','kilos']].duplicated(),:]"
   ]
  },
  {
   "cell_type": "code",
   "execution_count": 11,
   "id": "95f9bd38",
   "metadata": {},
   "outputs": [
    {
     "data": {
      "text/plain": [
       "fecha                   datetime64[ns]\n",
       "codigo_variedad               category\n",
       "descripcion_variedad          category\n",
       "origen                        category\n",
       "descripcion_origen            category\n",
       "kilos                          float64\n",
       "precio_max                     float64\n",
       "precio_min                     float64\n",
       "precio_freq                    float64\n",
       "dtype: object"
      ]
     },
     "execution_count": 11,
     "metadata": {},
     "output_type": "execute_result"
    }
   ],
   "source": [
    "datos.dtypes"
   ]
  },
  {
   "cell_type": "code",
   "execution_count": 12,
   "id": "c4e83765",
   "metadata": {},
   "outputs": [
    {
     "name": "stdout",
     "output_type": "stream",
     "text": [
      "<class 'pandas.core.frame.DataFrame'>\n",
      "Int64Index: 167817 entries, 0 to 50252\n",
      "Data columns (total 9 columns):\n",
      " #   Column                Non-Null Count   Dtype         \n",
      "---  ------                --------------   -----         \n",
      " 0   fecha                 167817 non-null  datetime64[ns]\n",
      " 1   codigo_variedad       167817 non-null  category      \n",
      " 2   descripcion_variedad  167817 non-null  category      \n",
      " 3   origen                167817 non-null  category      \n",
      " 4   descripcion_origen    167817 non-null  category      \n",
      " 5   kilos                 167817 non-null  float64       \n",
      " 6   precio_max            167817 non-null  float64       \n",
      " 7   precio_min            167817 non-null  float64       \n",
      " 8   precio_freq           167817 non-null  float64       \n",
      "dtypes: category(4), datetime64[ns](1), float64(4)\n",
      "memory usage: 8.9 MB\n"
     ]
    }
   ],
   "source": [
    "datos.info()"
   ]
  },
  {
   "cell_type": "code",
   "execution_count": 13,
   "id": "11ddc895",
   "metadata": {},
   "outputs": [],
   "source": [
    "productos = ['VACUNO DESPIECE AÑOJO',\n",
    "             'PORCINO DESPIECE',\n",
    "             'HUEVOS',\n",
    "             'POLLO',\n",
    "             'FRESON',\n",
    "             'MANZANA ROYAL GALA',\n",
    "             'PLATANO IMPORT. O BANANA',\n",
    "             'ACELGAS',\n",
    "             'CEBOLLA GRANO DE ORO',\n",
    "             'JUDIA VERDE HELDA',\n",
    "             'PIMIENTO VERDE ITALIANO',\n",
    "             'BOQUERON NCNAL.TERCIADO',\n",
    "             'PATATA BLANCA',\n",
    "             'LUBINA ACUICULTU. MEDIANA',\n",
    "             'PERCEBE NACIONAL'\n",
    "             \n",
    "             ]"
   ]
  },
  {
   "cell_type": "code",
   "execution_count": 14,
   "id": "6985412b",
   "metadata": {},
   "outputs": [],
   "source": [
    "fechas_x = [pd.to_datetime(i).strftime('%b-%y') for i in datos.sort_values('fecha')['fecha'].unique()]"
   ]
  },
  {
   "cell_type": "code",
   "execution_count": 15,
   "id": "0f212e28",
   "metadata": {},
   "outputs": [
    {
     "data": {
      "text/plain": [
       "['Jan-19',\n",
       " 'Apr-19',\n",
       " 'Jul-19',\n",
       " 'Oct-19',\n",
       " 'Jan-20',\n",
       " 'Apr-20',\n",
       " 'Jul-20',\n",
       " 'Oct-20',\n",
       " 'Jan-21',\n",
       " 'Apr-21',\n",
       " 'Jul-21',\n",
       " 'Oct-21',\n",
       " 'Jan-22',\n",
       " 'Apr-22',\n",
       " 'Jul-22']"
      ]
     },
     "execution_count": 15,
     "metadata": {},
     "output_type": "execute_result"
    }
   ],
   "source": [
    "fechas_x[::3]"
   ]
  },
  {
   "cell_type": "code",
   "execution_count": null,
   "id": "c94883da",
   "metadata": {},
   "outputs": [],
   "source": [
    "locale.setlocale(locale.LC_ALL,'')\n",
    "sns.set_style(style='white')\n",
    "g = sns.catplot(\n",
    "    data=datos.loc[datos['descripcion_variedad'].isin(productos),:].sort_values('fecha',ascending=True),\n",
    "    x=\"fecha\", y=\"precio_freq\", col=\"descripcion_variedad\",\n",
    "      linewidth=0,palette=sns.color_palette(\"hls\",12),kind='bar',zorder=1,\n",
    "    col_wrap=3, height=2.8, aspect=2.5, legend=False,sharey=False,ci=None,estimator=np.mean\n",
    ")\n",
    "g.add_legend(fontsize=20,loc=9,ncol=5,bbox_to_anchor=(.35,0.95),frameon=False)\n",
    "\n",
    "\n",
    "fuente = 'Madrid Datos'\n",
    "autor='@walyt'\n",
    "titulo = f\"Evolución precio mayoristas de alimentos\"\n",
    "# Iterate over each subplot to customize further\n",
    "\n",
    "for producto, ax in g.axes_dict.items():\n",
    "\n",
    "    # Add the title as an annotation within the plot\n",
    "    ax.text(.5, .95, producto, transform=ax.transAxes, fontweight=\"bold\",fontsize=20,ha='center')\n",
    "\n",
    "    # Plot every year's time series in the background\n",
    "    ax.xaxis.set_tick_params(labelsize=16,width=0,rotation=70,pad=0)\n",
    "    ax.yaxis.set_tick_params(labelsize=16,width=0,rotation=0,pad=0)\n",
    "    sns.despine(left=True, bottom=True)\n",
    "    ax.grid(True)\n",
    "    ax.set_xticks(range(0,44,3))\n",
    "    #ax.xaxis.set_major_locator(ticker.MultipleLocator(3))\n",
    "    ax.set_xticklabels(fechas_x[::3])\n",
    "    ax.yaxis.set_major_formatter(plt.FuncFormatter(lambda v,x:f'{v:,.1f}'))\n",
    "    ax1=ax.twinx()\n",
    "    ax1.plot(range(0,45,1),datos.\n",
    "             loc[datos['descripcion_variedad']==producto,:].\n",
    "             sort_values('fecha',ascending=True).\n",
    "             groupby(['descripcion_variedad','fecha']).\n",
    "             sum().\n",
    "             reset_index()['kilos'])\n",
    "            \n",
    "    \n",
    "    \n",
    "    #formatter = mdates.ConciseDateFormatter(locator)\n",
    "    \n",
    "    #ax.set_ylim((0,400000))\n",
    "    #ax.set_yticks([0,100000,200000,300000,400000])    \n",
    "# Reduce the frequency of the x axis ticks\n",
    "\n",
    "# Tweak the supporting aspects of the plot\n",
    "g.set_titles(\"\")\n",
    "g.set_axis_labels(\"\", \"\",fontsize=20)\n",
    "g.tight_layout()\n",
    "g.fig.suptitle('{}'.format(titulo),fontsize=36,color='black',x=0.5)\n",
    "g.fig.subplots_adjust(top=.9,bottom=.1,wspace=.1,hspace=.1)\n",
    "g.fig.text(0.0, 0.01, 'Data Source: {}'.format(fuente), horizontalalignment='left',\n",
    "             verticalalignment='center', fontsize=20,color='black')\n",
    "g.fig.text(0.5,0.01,'{}'.format(autor),\n",
    "                 verticalalignment='center',fontsize=20,horizontalalignment='left',color='black')\n",
    "path_imagen = '{}img/evolucion_precios.png'.format(path_proyecto)\n",
    "g.savefig(path_imagen,dpi=288,bbox_inches='tight')"
   ]
  },
  {
   "cell_type": "code",
   "execution_count": null,
   "id": "d62fba7d",
   "metadata": {},
   "outputs": [],
   "source": [
    "locale.setlocale(locale.LC_ALL,'')\n",
    "sns.set_style(style='white')\n",
    "g = sns.catplot(\n",
    "    data=datos.loc[datos['descripcion_variedad'].isin(productos),:].sort_values('fecha',ascending=True),\n",
    "    x=\"fecha\", y=\"kilos\", col=\"descripcion_variedad\",\n",
    "      linewidth=0,palette=np.roll(sns.color_palette(\"hls\",12)[::-1],shift=8,axis=0),kind='bar',zorder=1,\n",
    "    col_wrap=3, height=2.8, aspect=2.5, legend=False,sharey=False,ci=None,estimator=sum\n",
    ")\n",
    "\n",
    "\n",
    "\n",
    "fuente = 'https://datos.madrid.es/portal/site/egob'\n",
    "titulo = f\"Evolución de volumen y precio de un conjunto de alimentos en Mercamadrid\"\n",
    "# Iterate over each subplot to customize further\n",
    "\n",
    "for producto, ax in g.axes_dict.items():\n",
    "\n",
    "    # Add the title as an annotation within the plot\n",
    "    ax.text(.5, .95, producto, transform=ax.transAxes, fontweight=\"bold\",fontsize=20,ha='center')\n",
    "\n",
    "    # Plot every year's time series in the background\n",
    "    ax.xaxis.set_tick_params(labelsize=16,width=0,rotation=70,pad=0)\n",
    "    ax.yaxis.set_tick_params(labelsize=16,width=0,rotation=0,pad=0)\n",
    "    ax.yaxis.set_major_formatter(plt.FuncFormatter(lambda v,x:f'{v/1000:,.0f}'))\n",
    "    sns.despine(left=True, bottom=True)\n",
    "    ax.grid(True)\n",
    "    ax.set_xticks(range(0,44,3))\n",
    "    ax.set_xticklabels(fechas_x[::3])\n",
    "    ax1=ax.twinx()\n",
    "    ax1.plot(range(0,45,1),\n",
    "             datos.\n",
    "             loc[datos['descripcion_variedad']==producto,:].\n",
    "             sort_values('fecha',ascending=True).\n",
    "             groupby(['descripcion_variedad','fecha']).\n",
    "             mean().\n",
    "             reset_index()['precio_freq'],\n",
    "            lw=2)\n",
    "    ax1.yaxis.set_tick_params(labelsize=16,width=0,rotation=0,pad=0)\n",
    "    ax1.yaxis.set_major_formatter(plt.FuncFormatter(lambda v,x:f'{v:,.1f}'))\n",
    "    ax1.set_ylim(bottom=0)\n",
    "    sns.despine(left=True, bottom=True)\n",
    "    \n",
    "\n",
    "# Tweak the supporting aspects of the plot\n",
    "g.set_titles(\"\")\n",
    "g.set_axis_labels(\"\", \"\",fontsize=20)\n",
    "g.tight_layout()\n",
    "g.fig.subplots_adjust(top=.85,bottom=.1,wspace=.23,hspace=.1)\n",
    "\n",
    "g.fig.text(0.05, 0.95, '{}'.format(titulo),fontsize=36,color='black',\n",
    "             verticalalignment='center',fontweight='bold')\n",
    "g.fig.text(0.05, 0.915, 'Eje \"y\" izquierda y barras indican consumo en miles kilos',\n",
    "             verticalalignment='center', fontsize=20,color='black')\n",
    "g.fig.text(0.05, 0.895, 'Eje \"y\" derecha y línea indica precio en €/kilo (o docena en el caso de \"Huevos\")',\n",
    "             verticalalignment='center', fontsize=20,color='black')\n",
    "g.fig.text(0.05, 0.01, 'Data Source: {}'.format(fuente), horizontalalignment='left',\n",
    "             verticalalignment='center', fontsize=20,color='black')\n",
    "g.fig.text(0.5,0.01,'{}'.format(autor),\n",
    "                 verticalalignment='center',fontsize=20,horizontalalignment='left',color='black')\n",
    "path_imagen = '{}img/evolucion_consumo_precio.png'.format(path_proyecto)\n",
    "g.savefig(path_imagen,dpi=288,bbox_inches='tight')"
   ]
  },
  {
   "cell_type": "code",
   "execution_count": null,
   "id": "23a7999b",
   "metadata": {},
   "outputs": [],
   "source": []
  }
 ],
 "metadata": {
  "kernelspec": {
   "display_name": "Python 3 (ipykernel)",
   "language": "python",
   "name": "python3"
  },
  "language_info": {
   "codemirror_mode": {
    "name": "ipython",
    "version": 3
   },
   "file_extension": ".py",
   "mimetype": "text/x-python",
   "name": "python",
   "nbconvert_exporter": "python",
   "pygments_lexer": "ipython3",
   "version": "3.8.13"
  },
  "toc": {
   "base_numbering": 1,
   "nav_menu": {},
   "number_sections": true,
   "sideBar": true,
   "skip_h1_title": false,
   "title_cell": "Table of Contents",
   "title_sidebar": "Contents",
   "toc_cell": false,
   "toc_position": {},
   "toc_section_display": true,
   "toc_window_display": false
  },
  "varInspector": {
   "cols": {
    "lenName": 16,
    "lenType": 16,
    "lenVar": 40
   },
   "kernels_config": {
    "python": {
     "delete_cmd_postfix": "",
     "delete_cmd_prefix": "del ",
     "library": "var_list.py",
     "varRefreshCmd": "print(var_dic_list())"
    },
    "r": {
     "delete_cmd_postfix": ") ",
     "delete_cmd_prefix": "rm(",
     "library": "var_list.r",
     "varRefreshCmd": "cat(var_dic_list()) "
    }
   },
   "types_to_exclude": [
    "module",
    "function",
    "builtin_function_or_method",
    "instance",
    "_Feature"
   ],
   "window_display": false
  }
 },
 "nbformat": 4,
 "nbformat_minor": 5
}
